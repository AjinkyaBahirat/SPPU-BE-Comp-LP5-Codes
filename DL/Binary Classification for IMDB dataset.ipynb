{
 "cells": [
  {
   "cell_type": "code",
   "execution_count": 1,
   "id": "a64fba52",
   "metadata": {},
   "outputs": [],
   "source": [
    "import numpy as np\n",
    "from tensorflow import keras\n",
    "from tensorflow.keras.datasets import imdb"
   ]
  },
  {
   "cell_type": "code",
   "execution_count": 2,
   "id": "ce3ff3ae",
   "metadata": {},
   "outputs": [],
   "source": [
    "(x_train,y_train),(x_test,y_test) = imdb.load_data(num_words=10000)"
   ]
  },
  {
   "cell_type": "code",
   "execution_count": 3,
   "id": "a60d94bd",
   "metadata": {},
   "outputs": [],
   "source": [
    "x_train = keras.preprocessing.sequence.pad_sequences(x_train,maxlen=200)\n",
    "x_test = keras.preprocessing.sequence.pad_sequences(x_test,maxlen=200)"
   ]
  },
  {
   "cell_type": "code",
   "execution_count": 4,
   "id": "43e8c849",
   "metadata": {},
   "outputs": [],
   "source": [
    "from tensorflow.keras.models import Sequential\n",
    "from tensorflow.keras.layers import *"
   ]
  },
  {
   "cell_type": "code",
   "execution_count": 5,
   "id": "cc6a76c3",
   "metadata": {},
   "outputs": [],
   "source": [
    "model = Sequential()\n",
    "model.add(Embedding(10000,128,input_length=200))\n",
    "model.add(Flatten())\n",
    "model.add(Dense(128,activation='relu'))\n",
    "model.add(Dense(1,activation='sigmoid'))\n",
    "model.compile(optimizer='adam',loss='binary_crossentropy',metrics=['accuracy'])"
   ]
  },
  {
   "cell_type": "code",
   "execution_count": 6,
   "id": "499d977b",
   "metadata": {},
   "outputs": [
    {
     "name": "stdout",
     "output_type": "stream",
     "text": [
      "Epoch 1/10\n",
      "196/196 [==============================] - 13s 61ms/step - loss: 0.4315 - accuracy: 0.7776 - val_loss: 0.3079 - val_accuracy: 0.8666\n",
      "Epoch 2/10\n",
      "196/196 [==============================] - 11s 59ms/step - loss: 0.0903 - accuracy: 0.9693 - val_loss: 0.3838 - val_accuracy: 0.8545\n",
      "Epoch 3/10\n",
      "196/196 [==============================] - 12s 59ms/step - loss: 0.0082 - accuracy: 0.9991 - val_loss: 0.4532 - val_accuracy: 0.8590\n",
      "Epoch 4/10\n",
      "196/196 [==============================] - 11s 59ms/step - loss: 0.0010 - accuracy: 1.0000 - val_loss: 0.4860 - val_accuracy: 0.8604\n",
      "Epoch 5/10\n",
      "196/196 [==============================] - 12s 59ms/step - loss: 4.8209e-04 - accuracy: 1.0000 - val_loss: 0.5023 - val_accuracy: 0.8610\n",
      "Epoch 6/10\n",
      "196/196 [==============================] - 12s 59ms/step - loss: 2.9390e-04 - accuracy: 1.0000 - val_loss: 0.5188 - val_accuracy: 0.8620\n",
      "Epoch 7/10\n",
      "196/196 [==============================] - 12s 59ms/step - loss: 2.0356e-04 - accuracy: 1.0000 - val_loss: 0.5339 - val_accuracy: 0.8622\n",
      "Epoch 8/10\n",
      "196/196 [==============================] - 12s 59ms/step - loss: 1.4901e-04 - accuracy: 1.0000 - val_loss: 0.5456 - val_accuracy: 0.8626\n",
      "Epoch 9/10\n",
      "196/196 [==============================] - 12s 59ms/step - loss: 1.1286e-04 - accuracy: 1.0000 - val_loss: 0.5573 - val_accuracy: 0.8629\n",
      "Epoch 10/10\n",
      "196/196 [==============================] - 12s 59ms/step - loss: 8.7645e-05 - accuracy: 1.0000 - val_loss: 0.5679 - val_accuracy: 0.8631\n"
     ]
    },
    {
     "data": {
      "text/plain": [
       "<keras.callbacks.History at 0x20bcc9c9fc0>"
      ]
     },
     "execution_count": 6,
     "metadata": {},
     "output_type": "execute_result"
    }
   ],
   "source": [
    "model.fit(x_train, y_train, batch_size=128, epochs=10, validation_data=(x_test, y_test))"
   ]
  },
  {
   "cell_type": "code",
   "execution_count": 7,
   "id": "7e02b647",
   "metadata": {},
   "outputs": [
    {
     "name": "stdout",
     "output_type": "stream",
     "text": [
      "Test loss: 0.5678955316543579\n",
      "Test accuracy: 0.8630800247192383\n"
     ]
    }
   ],
   "source": [
    "score = model.evaluate(x_test, y_test, verbose=0)\n",
    "print('Test loss:', score[0])\n",
    "print('Test accuracy:', score[1])"
   ]
  },
  {
   "cell_type": "code",
   "execution_count": null,
   "id": "7ad708e9",
   "metadata": {},
   "outputs": [],
   "source": []
  }
 ],
 "metadata": {
  "kernelspec": {
   "display_name": "Python 3 (ipykernel)",
   "language": "python",
   "name": "python3"
  },
  "language_info": {
   "codemirror_mode": {
    "name": "ipython",
    "version": 3
   },
   "file_extension": ".py",
   "mimetype": "text/x-python",
   "name": "python",
   "nbconvert_exporter": "python",
   "pygments_lexer": "ipython3",
   "version": "3.10.11"
  }
 },
 "nbformat": 4,
 "nbformat_minor": 5
}
