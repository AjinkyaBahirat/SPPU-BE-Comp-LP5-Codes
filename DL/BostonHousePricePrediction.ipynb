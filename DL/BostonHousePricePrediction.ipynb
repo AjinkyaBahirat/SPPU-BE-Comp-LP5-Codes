{
 "cells": [
  {
   "cell_type": "code",
   "execution_count": 26,
   "id": "d6aaab2b",
   "metadata": {},
   "outputs": [],
   "source": [
    "import tensorflow as tf\n",
    "from tensorflow.keras.datasets import boston_housing\n",
    "from sklearn import preprocessing"
   ]
  },
  {
   "cell_type": "code",
   "execution_count": 27,
   "id": "3428e367",
   "metadata": {},
   "outputs": [],
   "source": [
    "(x_train, y_train), (x_test, y_test) = boston_housing.load_data()"
   ]
  },
  {
   "cell_type": "code",
   "execution_count": 28,
   "id": "23b093f7",
   "metadata": {},
   "outputs": [
    {
     "name": "stdout",
     "output_type": "stream",
     "text": [
      "x_train Shape: (404, 13)\n",
      "y_train Shape: (404,)\n",
      "x_test Shape: (102, 13)\n",
      "y_test Shape: (102,)\n"
     ]
    }
   ],
   "source": [
    "print(\"x_train Shape:\",x_train.shape)\n",
    "print(\"y_train Shape:\",y_train.shape)\n",
    "print(\"x_test Shape:\",x_test.shape)\n",
    "print(\"y_test Shape:\",y_test.shape)"
   ]
  },
  {
   "cell_type": "code",
   "execution_count": 29,
   "id": "ec76278c",
   "metadata": {},
   "outputs": [
    {
     "data": {
      "text/plain": [
       "array([  1.23247,   0.     ,   8.14   ,   0.     ,   0.538  ,   6.142  ,\n",
       "        91.7    ,   3.9769 ,   4.     , 307.     ,  21.     , 396.9    ,\n",
       "        18.72   ])"
      ]
     },
     "execution_count": 29,
     "metadata": {},
     "output_type": "execute_result"
    }
   ],
   "source": [
    "x_train[0]"
   ]
  },
  {
   "cell_type": "code",
   "execution_count": 30,
   "id": "62186d71",
   "metadata": {},
   "outputs": [
    {
     "data": {
      "text/plain": [
       "15.2"
      ]
     },
     "execution_count": 30,
     "metadata": {},
     "output_type": "execute_result"
    }
   ],
   "source": [
    "y_train[0]"
   ]
  },
  {
   "cell_type": "code",
   "execution_count": 31,
   "id": "f78040b0",
   "metadata": {},
   "outputs": [],
   "source": [
    "x_train = preprocessing.normalize(x_train)\n",
    "x_test = preprocessing.normalize(x_test)"
   ]
  },
  {
   "cell_type": "code",
   "execution_count": 32,
   "id": "6667c75f",
   "metadata": {},
   "outputs": [
    {
     "data": {
      "text/plain": [
       "array([0.0024119 , 0.        , 0.01592969, 0.        , 0.00105285,\n",
       "       0.01201967, 0.17945359, 0.00778265, 0.00782786, 0.6007879 ,\n",
       "       0.04109624, 0.77671895, 0.03663436])"
      ]
     },
     "execution_count": 32,
     "metadata": {},
     "output_type": "execute_result"
    }
   ],
   "source": [
    "x_train[0]"
   ]
  },
  {
   "cell_type": "code",
   "execution_count": 33,
   "id": "5a305d8c",
   "metadata": {},
   "outputs": [],
   "source": [
    "from tensorflow.keras.models import Sequential\n",
    "from tensorflow.keras.layers import *"
   ]
  },
  {
   "cell_type": "code",
   "execution_count": 38,
   "id": "0ee5df2d",
   "metadata": {},
   "outputs": [],
   "source": [
    "model = Sequential();\n",
    "model.add(Dense(128,activation='relu',input_shape=(x_train[0].shape)))\n",
    "model.add(Dense(64,activation='relu'))\n",
    "model.add(Dense(32,activation='relu'))\n",
    "model.add(Dense(1))\n",
    "model.compile(optimizer='rmsprop',loss='mse',metrics=['mae'])"
   ]
  },
  {
   "cell_type": "code",
   "execution_count": 39,
   "id": "f2a008c5",
   "metadata": {},
   "outputs": [
    {
     "name": "stdout",
     "output_type": "stream",
     "text": [
      "Epoch 1/100\n",
      "13/13 [==============================] - 1s 23ms/step - loss: 549.7767 - mae: 21.5441 - val_loss: 523.2709 - val_mae: 20.9833\n",
      "Epoch 2/100\n",
      "13/13 [==============================] - 0s 7ms/step - loss: 430.7138 - mae: 18.5993 - val_loss: 360.5411 - val_mae: 16.6973\n",
      "Epoch 3/100\n",
      "13/13 [==============================] - 0s 7ms/step - loss: 259.6911 - mae: 13.3445 - val_loss: 182.6404 - val_mae: 10.9174\n",
      "Epoch 4/100\n",
      "13/13 [==============================] - 0s 6ms/step - loss: 124.8762 - mae: 7.9783 - val_loss: 92.2598 - val_mae: 6.8778\n",
      "Epoch 5/100\n",
      "13/13 [==============================] - 0s 7ms/step - loss: 81.7066 - mae: 6.3528 - val_loss: 78.2004 - val_mae: 6.3137\n",
      "Epoch 6/100\n",
      "13/13 [==============================] - 0s 7ms/step - loss: 78.1739 - mae: 6.3701 - val_loss: 75.7841 - val_mae: 6.1897\n",
      "Epoch 7/100\n",
      "13/13 [==============================] - 0s 7ms/step - loss: 75.1986 - mae: 6.2362 - val_loss: 74.0944 - val_mae: 6.0831\n",
      "Epoch 8/100\n",
      "13/13 [==============================] - 0s 7ms/step - loss: 72.3770 - mae: 6.0321 - val_loss: 68.9207 - val_mae: 6.0502\n",
      "Epoch 9/100\n",
      "13/13 [==============================] - 0s 7ms/step - loss: 70.4587 - mae: 5.9712 - val_loss: 66.5079 - val_mae: 5.9363\n",
      "Epoch 10/100\n",
      "13/13 [==============================] - 0s 7ms/step - loss: 68.1871 - mae: 5.8765 - val_loss: 65.5897 - val_mae: 5.8402\n",
      "Epoch 11/100\n",
      "13/13 [==============================] - 0s 7ms/step - loss: 67.2246 - mae: 5.7811 - val_loss: 66.1515 - val_mae: 5.8092\n",
      "Epoch 12/100\n",
      "13/13 [==============================] - 0s 7ms/step - loss: 65.2018 - mae: 5.6150 - val_loss: 62.8522 - val_mae: 5.7434\n",
      "Epoch 13/100\n",
      "13/13 [==============================] - 0s 6ms/step - loss: 64.5984 - mae: 5.6429 - val_loss: 60.6606 - val_mae: 5.7116\n",
      "Epoch 14/100\n",
      "13/13 [==============================] - 0s 7ms/step - loss: 63.7910 - mae: 5.6226 - val_loss: 60.7259 - val_mae: 5.6815\n",
      "Epoch 15/100\n",
      "13/13 [==============================] - 0s 7ms/step - loss: 62.8466 - mae: 5.5114 - val_loss: 59.8983 - val_mae: 5.6583\n",
      "Epoch 16/100\n",
      "13/13 [==============================] - 0s 7ms/step - loss: 62.5298 - mae: 5.5599 - val_loss: 59.7702 - val_mae: 5.6474\n",
      "Epoch 17/100\n",
      "13/13 [==============================] - 0s 7ms/step - loss: 61.3152 - mae: 5.4729 - val_loss: 58.4382 - val_mae: 5.6350\n",
      "Epoch 18/100\n",
      "13/13 [==============================] - 0s 7ms/step - loss: 60.9720 - mae: 5.4527 - val_loss: 57.7403 - val_mae: 5.6714\n",
      "Epoch 19/100\n",
      "13/13 [==============================] - 0s 6ms/step - loss: 61.3806 - mae: 5.5561 - val_loss: 59.6459 - val_mae: 5.6355\n",
      "Epoch 20/100\n",
      "13/13 [==============================] - 0s 5ms/step - loss: 60.1053 - mae: 5.4200 - val_loss: 60.2588 - val_mae: 5.6508\n",
      "Epoch 21/100\n",
      "13/13 [==============================] - 0s 6ms/step - loss: 59.9942 - mae: 5.3205 - val_loss: 58.8357 - val_mae: 5.6139\n",
      "Epoch 22/100\n",
      "13/13 [==============================] - 0s 5ms/step - loss: 59.8699 - mae: 5.4008 - val_loss: 57.7259 - val_mae: 5.5947\n",
      "Epoch 23/100\n",
      "13/13 [==============================] - 0s 5ms/step - loss: 58.3180 - mae: 5.3013 - val_loss: 56.2374 - val_mae: 5.6389\n",
      "Epoch 24/100\n",
      "13/13 [==============================] - 0s 5ms/step - loss: 59.2789 - mae: 5.4250 - val_loss: 56.6525 - val_mae: 5.5718\n",
      "Epoch 25/100\n",
      "13/13 [==============================] - 0s 5ms/step - loss: 58.3993 - mae: 5.3354 - val_loss: 59.3560 - val_mae: 5.6149\n",
      "Epoch 26/100\n",
      "13/13 [==============================] - 0s 6ms/step - loss: 58.1255 - mae: 5.2307 - val_loss: 55.7662 - val_mae: 5.5659\n",
      "Epoch 27/100\n",
      "13/13 [==============================] - 0s 6ms/step - loss: 57.2203 - mae: 5.2507 - val_loss: 57.4061 - val_mae: 5.5595\n",
      "Epoch 28/100\n",
      "13/13 [==============================] - 0s 6ms/step - loss: 57.2983 - mae: 5.1803 - val_loss: 55.3395 - val_mae: 5.5596\n",
      "Epoch 29/100\n",
      "13/13 [==============================] - 0s 6ms/step - loss: 57.6258 - mae: 5.2781 - val_loss: 55.7187 - val_mae: 5.5228\n",
      "Epoch 30/100\n",
      "13/13 [==============================] - 0s 6ms/step - loss: 56.9359 - mae: 5.2623 - val_loss: 58.2536 - val_mae: 5.5588\n",
      "Epoch 31/100\n",
      "13/13 [==============================] - 0s 6ms/step - loss: 57.0518 - mae: 5.1685 - val_loss: 55.6297 - val_mae: 5.5042\n",
      "Epoch 32/100\n",
      "13/13 [==============================] - 0s 5ms/step - loss: 56.6377 - mae: 5.1592 - val_loss: 55.7180 - val_mae: 5.4943\n",
      "Epoch 33/100\n",
      "13/13 [==============================] - 0s 6ms/step - loss: 55.4945 - mae: 5.1594 - val_loss: 58.3184 - val_mae: 5.5436\n",
      "Epoch 34/100\n",
      "13/13 [==============================] - 0s 5ms/step - loss: 55.7859 - mae: 5.1993 - val_loss: 59.5112 - val_mae: 5.5658\n",
      "Epoch 35/100\n",
      "13/13 [==============================] - 0s 6ms/step - loss: 56.6934 - mae: 5.1078 - val_loss: 55.6780 - val_mae: 5.4672\n",
      "Epoch 36/100\n",
      "13/13 [==============================] - 0s 5ms/step - loss: 55.1990 - mae: 5.1227 - val_loss: 57.1229 - val_mae: 5.4914\n",
      "Epoch 37/100\n",
      "13/13 [==============================] - 0s 6ms/step - loss: 55.7864 - mae: 5.0596 - val_loss: 55.5193 - val_mae: 5.4483\n",
      "Epoch 38/100\n",
      "13/13 [==============================] - 0s 6ms/step - loss: 54.1301 - mae: 4.9911 - val_loss: 54.7390 - val_mae: 5.4292\n",
      "Epoch 39/100\n",
      "13/13 [==============================] - 0s 6ms/step - loss: 55.0509 - mae: 5.1167 - val_loss: 53.8261 - val_mae: 5.4286\n",
      "Epoch 40/100\n",
      "13/13 [==============================] - 0s 6ms/step - loss: 54.7146 - mae: 5.0378 - val_loss: 53.4911 - val_mae: 5.4524\n",
      "Epoch 41/100\n",
      "13/13 [==============================] - 0s 6ms/step - loss: 54.8037 - mae: 5.0584 - val_loss: 53.3389 - val_mae: 5.4173\n",
      "Epoch 42/100\n",
      "13/13 [==============================] - 0s 6ms/step - loss: 53.9145 - mae: 5.0605 - val_loss: 54.7761 - val_mae: 5.3944\n",
      "Epoch 43/100\n",
      "13/13 [==============================] - 0s 6ms/step - loss: 53.7379 - mae: 4.9703 - val_loss: 53.0915 - val_mae: 5.4377\n",
      "Epoch 44/100\n",
      "13/13 [==============================] - 0s 6ms/step - loss: 53.1061 - mae: 4.9371 - val_loss: 53.1486 - val_mae: 5.4731\n",
      "Epoch 45/100\n",
      "13/13 [==============================] - 0s 6ms/step - loss: 52.8535 - mae: 5.0320 - val_loss: 56.0047 - val_mae: 5.3999\n",
      "Epoch 46/100\n",
      "13/13 [==============================] - 0s 7ms/step - loss: 52.5686 - mae: 4.9278 - val_loss: 55.6661 - val_mae: 5.3812\n",
      "Epoch 47/100\n",
      "13/13 [==============================] - 0s 6ms/step - loss: 52.7007 - mae: 4.8508 - val_loss: 52.3257 - val_mae: 5.3898\n",
      "Epoch 48/100\n",
      "13/13 [==============================] - 0s 6ms/step - loss: 52.4491 - mae: 4.9976 - val_loss: 55.5781 - val_mae: 5.3611\n",
      "Epoch 49/100\n",
      "13/13 [==============================] - 0s 6ms/step - loss: 52.6315 - mae: 4.8821 - val_loss: 52.7245 - val_mae: 5.2831\n",
      "Epoch 50/100\n",
      "13/13 [==============================] - 0s 7ms/step - loss: 52.4964 - mae: 4.8274 - val_loss: 51.5268 - val_mae: 5.3029\n",
      "Epoch 51/100\n",
      "13/13 [==============================] - 0s 6ms/step - loss: 51.4030 - mae: 4.8992 - val_loss: 54.4409 - val_mae: 5.3040\n",
      "Epoch 52/100\n",
      "13/13 [==============================] - 0s 6ms/step - loss: 51.6658 - mae: 4.8289 - val_loss: 53.0588 - val_mae: 5.2591\n",
      "Epoch 53/100\n",
      "13/13 [==============================] - 0s 6ms/step - loss: 51.0915 - mae: 4.8153 - val_loss: 51.4496 - val_mae: 5.2248\n",
      "Epoch 54/100\n",
      "13/13 [==============================] - 0s 6ms/step - loss: 50.4627 - mae: 4.8132 - val_loss: 51.3754 - val_mae: 5.2054\n",
      "Epoch 55/100\n",
      "13/13 [==============================] - 0s 6ms/step - loss: 49.9683 - mae: 4.8142 - val_loss: 56.0590 - val_mae: 5.3304\n",
      "Epoch 56/100\n",
      "13/13 [==============================] - 0s 6ms/step - loss: 50.4451 - mae: 4.8437 - val_loss: 54.6085 - val_mae: 5.2727\n",
      "Epoch 57/100\n",
      "13/13 [==============================] - 0s 6ms/step - loss: 49.0183 - mae: 4.6955 - val_loss: 54.0133 - val_mae: 5.2469\n",
      "Epoch 58/100\n",
      "13/13 [==============================] - 0s 6ms/step - loss: 50.0163 - mae: 4.7657 - val_loss: 54.2578 - val_mae: 5.2475\n",
      "Epoch 59/100\n",
      "13/13 [==============================] - 0s 6ms/step - loss: 49.2236 - mae: 4.6736 - val_loss: 50.4825 - val_mae: 5.1240\n",
      "Epoch 60/100\n",
      "13/13 [==============================] - 0s 5ms/step - loss: 49.0850 - mae: 4.7176 - val_loss: 49.7352 - val_mae: 5.1005\n",
      "Epoch 61/100\n",
      "13/13 [==============================] - 0s 6ms/step - loss: 48.4182 - mae: 4.6630 - val_loss: 49.4130 - val_mae: 5.0783\n",
      "Epoch 62/100\n"
     ]
    },
    {
     "name": "stdout",
     "output_type": "stream",
     "text": [
      "13/13 [==============================] - 0s 5ms/step - loss: 48.0365 - mae: 4.6129 - val_loss: 51.9276 - val_mae: 5.4953\n",
      "Epoch 63/100\n",
      "13/13 [==============================] - 0s 6ms/step - loss: 48.0729 - mae: 4.6887 - val_loss: 51.0194 - val_mae: 5.4256\n",
      "Epoch 64/100\n",
      "13/13 [==============================] - 0s 6ms/step - loss: 49.1100 - mae: 4.7424 - val_loss: 47.9408 - val_mae: 5.0250\n",
      "Epoch 65/100\n",
      "13/13 [==============================] - 0s 5ms/step - loss: 47.5562 - mae: 4.6034 - val_loss: 47.5958 - val_mae: 5.0086\n",
      "Epoch 66/100\n",
      "13/13 [==============================] - 0s 5ms/step - loss: 48.0511 - mae: 4.6434 - val_loss: 48.1985 - val_mae: 4.9761\n",
      "Epoch 67/100\n",
      "13/13 [==============================] - 0s 6ms/step - loss: 46.3782 - mae: 4.5532 - val_loss: 48.0372 - val_mae: 4.9586\n",
      "Epoch 68/100\n",
      "13/13 [==============================] - 0s 6ms/step - loss: 45.9634 - mae: 4.5002 - val_loss: 52.0385 - val_mae: 5.1033\n",
      "Epoch 69/100\n",
      "13/13 [==============================] - 0s 6ms/step - loss: 45.0546 - mae: 4.4002 - val_loss: 46.3137 - val_mae: 4.9186\n",
      "Epoch 70/100\n",
      "13/13 [==============================] - 0s 6ms/step - loss: 46.4299 - mae: 4.5691 - val_loss: 48.9424 - val_mae: 4.9556\n",
      "Epoch 71/100\n",
      "13/13 [==============================] - 0s 7ms/step - loss: 45.9196 - mae: 4.4480 - val_loss: 45.6489 - val_mae: 4.8655\n",
      "Epoch 72/100\n",
      "13/13 [==============================] - 0s 5ms/step - loss: 45.2342 - mae: 4.5035 - val_loss: 45.2186 - val_mae: 4.8538\n",
      "Epoch 73/100\n",
      "13/13 [==============================] - 0s 6ms/step - loss: 44.7117 - mae: 4.5147 - val_loss: 48.7675 - val_mae: 4.9297\n",
      "Epoch 74/100\n",
      "13/13 [==============================] - 0s 6ms/step - loss: 44.7316 - mae: 4.3921 - val_loss: 45.0467 - val_mae: 4.7826\n",
      "Epoch 75/100\n",
      "13/13 [==============================] - 0s 6ms/step - loss: 43.6034 - mae: 4.3961 - val_loss: 45.2765 - val_mae: 4.7614\n",
      "Epoch 76/100\n",
      "13/13 [==============================] - 0s 6ms/step - loss: 43.3494 - mae: 4.3583 - val_loss: 43.7091 - val_mae: 4.7876\n",
      "Epoch 77/100\n",
      "13/13 [==============================] - 0s 6ms/step - loss: 43.4900 - mae: 4.4406 - val_loss: 43.2864 - val_mae: 4.7439\n",
      "Epoch 78/100\n",
      "13/13 [==============================] - 0s 6ms/step - loss: 43.1996 - mae: 4.4958 - val_loss: 48.1213 - val_mae: 4.8742\n",
      "Epoch 79/100\n",
      "13/13 [==============================] - 0s 6ms/step - loss: 42.2433 - mae: 4.2999 - val_loss: 42.6883 - val_mae: 4.7225\n",
      "Epoch 80/100\n",
      "13/13 [==============================] - 0s 6ms/step - loss: 42.1475 - mae: 4.3499 - val_loss: 42.1214 - val_mae: 4.6600\n",
      "Epoch 81/100\n",
      "13/13 [==============================] - 0s 6ms/step - loss: 41.8737 - mae: 4.3746 - val_loss: 44.4403 - val_mae: 4.6787\n",
      "Epoch 82/100\n",
      "13/13 [==============================] - 0s 6ms/step - loss: 41.0731 - mae: 4.2977 - val_loss: 42.3498 - val_mae: 4.5643\n",
      "Epoch 83/100\n",
      "13/13 [==============================] - 0s 5ms/step - loss: 40.0506 - mae: 4.1591 - val_loss: 52.1862 - val_mae: 5.8228\n",
      "Epoch 84/100\n",
      "13/13 [==============================] - 0s 6ms/step - loss: 41.3845 - mae: 4.3607 - val_loss: 40.8977 - val_mae: 4.6368\n",
      "Epoch 85/100\n",
      "13/13 [==============================] - 0s 5ms/step - loss: 40.0229 - mae: 4.3243 - val_loss: 42.8404 - val_mae: 4.5659\n",
      "Epoch 86/100\n",
      "13/13 [==============================] - 0s 6ms/step - loss: 40.6872 - mae: 4.2832 - val_loss: 43.0911 - val_mae: 4.5721\n",
      "Epoch 87/100\n",
      "13/13 [==============================] - 0s 6ms/step - loss: 38.6755 - mae: 4.2022 - val_loss: 46.9518 - val_mae: 4.7854\n",
      "Epoch 88/100\n",
      "13/13 [==============================] - 0s 6ms/step - loss: 39.4747 - mae: 4.1643 - val_loss: 39.8072 - val_mae: 4.4004\n",
      "Epoch 89/100\n",
      "13/13 [==============================] - 0s 6ms/step - loss: 38.7463 - mae: 4.2101 - val_loss: 38.6068 - val_mae: 4.3911\n",
      "Epoch 90/100\n",
      "13/13 [==============================] - 0s 5ms/step - loss: 37.8066 - mae: 4.1796 - val_loss: 41.9668 - val_mae: 4.4939\n",
      "Epoch 91/100\n",
      "13/13 [==============================] - 0s 5ms/step - loss: 38.2679 - mae: 4.1813 - val_loss: 41.7870 - val_mae: 4.4804\n",
      "Epoch 92/100\n",
      "13/13 [==============================] - 0s 5ms/step - loss: 37.4059 - mae: 4.1078 - val_loss: 37.8397 - val_mae: 4.2916\n",
      "Epoch 93/100\n",
      "13/13 [==============================] - 0s 6ms/step - loss: 36.7258 - mae: 4.0878 - val_loss: 37.3455 - val_mae: 4.2441\n",
      "Epoch 94/100\n",
      "13/13 [==============================] - 0s 6ms/step - loss: 36.8591 - mae: 4.0615 - val_loss: 37.1418 - val_mae: 4.2270\n",
      "Epoch 95/100\n",
      "13/13 [==============================] - 0s 6ms/step - loss: 36.5103 - mae: 4.0971 - val_loss: 36.8621 - val_mae: 4.1971\n",
      "Epoch 96/100\n",
      "13/13 [==============================] - 0s 5ms/step - loss: 36.4540 - mae: 4.0856 - val_loss: 36.0525 - val_mae: 4.1616\n",
      "Epoch 97/100\n",
      "13/13 [==============================] - 0s 5ms/step - loss: 36.1904 - mae: 4.0871 - val_loss: 36.0367 - val_mae: 4.1529\n",
      "Epoch 98/100\n",
      "13/13 [==============================] - 0s 6ms/step - loss: 34.9062 - mae: 4.0710 - val_loss: 37.7235 - val_mae: 4.2313\n",
      "Epoch 99/100\n",
      "13/13 [==============================] - 0s 5ms/step - loss: 34.6011 - mae: 3.9983 - val_loss: 39.7573 - val_mae: 4.3424\n",
      "Epoch 100/100\n",
      "13/13 [==============================] - 0s 5ms/step - loss: 34.1295 - mae: 4.0194 - val_loss: 36.5320 - val_mae: 4.1630\n"
     ]
    },
    {
     "data": {
      "text/plain": [
       "<keras.callbacks.History at 0x287978e26e0>"
      ]
     },
     "execution_count": 39,
     "metadata": {},
     "output_type": "execute_result"
    }
   ],
   "source": [
    "model.fit(x_train,y_train,epochs=100,verbose=1,validation_data=(x_test,y_test))"
   ]
  },
  {
   "cell_type": "code",
   "execution_count": 42,
   "id": "5181e455",
   "metadata": {},
   "outputs": [
    {
     "name": "stdout",
     "output_type": "stream",
     "text": [
      "4/4 [==============================] - 0s 4ms/step\n"
     ]
    },
    {
     "data": {
      "text/plain": [
       "array([[10.521538],\n",
       "       [19.709265],\n",
       "       [24.270489],\n",
       "       [24.454172],\n",
       "       [25.0576  ],\n",
       "       [19.46831 ],\n",
       "       [27.936453],\n",
       "       [25.82503 ],\n",
       "       [19.70823 ],\n",
       "       [19.160349],\n",
       "       [15.302619],\n",
       "       [20.945955],\n",
       "       [16.890202],\n",
       "       [30.837685],\n",
       "       [16.338278],\n",
       "       [22.70019 ],\n",
       "       [21.62528 ],\n",
       "       [20.798723],\n",
       "       [18.463562],\n",
       "       [20.686865],\n",
       "       [12.660435],\n",
       "       [14.29705 ],\n",
       "       [21.881031],\n",
       "       [18.023092],\n",
       "       [25.756847],\n",
       "       [19.990217],\n",
       "       [25.003965],\n",
       "       [34.730305],\n",
       "       [12.921323],\n",
       "       [22.223719],\n",
       "       [21.288092],\n",
       "       [14.168725],\n",
       "       [30.388975],\n",
       "       [20.851183],\n",
       "       [16.8282  ],\n",
       "       [ 9.732435],\n",
       "       [14.550732],\n",
       "       [15.275099],\n",
       "       [17.606285],\n",
       "       [30.57316 ],\n",
       "       [26.868694],\n",
       "       [25.12649 ],\n",
       "       [17.342108],\n",
       "       [26.035936],\n",
       "       [31.786283],\n",
       "       [24.870375],\n",
       "       [29.53494 ],\n",
       "       [18.907507],\n",
       "       [20.973469],\n",
       "       [22.121695],\n",
       "       [33.963055],\n",
       "       [17.994522],\n",
       "       [13.60556 ],\n",
       "       [17.644491],\n",
       "       [27.89819 ],\n",
       "       [26.235355],\n",
       "       [15.751541],\n",
       "       [29.477957],\n",
       "       [31.424845],\n",
       "       [25.07895 ],\n",
       "       [19.695322],\n",
       "       [17.923244],\n",
       "       [14.040423],\n",
       "       [20.734894],\n",
       "       [24.72004 ],\n",
       "       [28.159472],\n",
       "       [15.544614],\n",
       "       [27.48948 ],\n",
       "       [11.718173],\n",
       "       [11.353757],\n",
       "       [20.356724],\n",
       "       [25.15931 ],\n",
       "       [20.119162],\n",
       "       [13.465691],\n",
       "       [24.314451],\n",
       "       [22.093061],\n",
       "       [22.236942],\n",
       "       [21.634886],\n",
       "       [30.49552 ],\n",
       "       [11.242598],\n",
       "       [22.284235],\n",
       "       [30.531544],\n",
       "       [21.728762],\n",
       "       [16.826963],\n",
       "       [21.856949],\n",
       "       [19.219507],\n",
       "       [18.104324],\n",
       "       [19.929264],\n",
       "       [22.600037],\n",
       "       [22.061245],\n",
       "       [19.546946],\n",
       "       [24.17583 ],\n",
       "       [24.028934],\n",
       "       [25.673347],\n",
       "       [30.4546  ],\n",
       "       [19.658064],\n",
       "       [30.444172],\n",
       "       [23.458357],\n",
       "       [21.291117],\n",
       "       [27.957897],\n",
       "       [25.836557],\n",
       "       [17.680134]], dtype=float32)"
      ]
     },
     "execution_count": 42,
     "metadata": {},
     "output_type": "execute_result"
    }
   ],
   "source": [
    "model.predict(x_test)"
   ]
  },
  {
   "cell_type": "code",
   "execution_count": 43,
   "id": "53023051",
   "metadata": {},
   "outputs": [
    {
     "data": {
      "text/plain": [
       "array([ 7.2, 18.8, 19. , 27. , 22.2, 24.5, 31.2, 22.9, 20.5, 23.2, 18.6,\n",
       "       14.5, 17.8, 50. , 20.8, 24.3, 24.2, 19.8, 19.1, 22.7, 12. , 10.2,\n",
       "       20. , 18.5, 20.9, 23. , 27.5, 30.1,  9.5, 22. , 21.2, 14.1, 33.1,\n",
       "       23.4, 20.1,  7.4, 15.4, 23.8, 20.1, 24.5, 33. , 28.4, 14.1, 46.7,\n",
       "       32.5, 29.6, 28.4, 19.8, 20.2, 25. , 35.4, 20.3,  9.7, 14.5, 34.9,\n",
       "       26.6,  7.2, 50. , 32.4, 21.6, 29.8, 13.1, 27.5, 21.2, 23.1, 21.9,\n",
       "       13. , 23.2,  8.1,  5.6, 21.7, 29.6, 19.6,  7. , 26.4, 18.9, 20.9,\n",
       "       28.1, 35.4, 10.2, 24.3, 43.1, 17.6, 15.4, 16.2, 27.1, 21.4, 21.5,\n",
       "       22.4, 25. , 16.6, 18.6, 22. , 42.8, 35.1, 21.5, 36. , 21.9, 24.1,\n",
       "       50. , 26.7, 25. ])"
      ]
     },
     "execution_count": 43,
     "metadata": {},
     "output_type": "execute_result"
    }
   ],
   "source": [
    "y_test"
   ]
  },
  {
   "cell_type": "code",
   "execution_count": 44,
   "id": "1f63bbae",
   "metadata": {},
   "outputs": [
    {
     "data": {
      "text/plain": [
       "array([5.71082159e-04, 0.00000000e+00, 2.13693971e-02, 0.00000000e+00,\n",
       "       1.29814095e-03, 1.59896015e-02, 2.13194686e-01, 6.77704466e-03,\n",
       "       1.24821245e-02, 9.58627160e-01, 5.21752803e-02, 1.76746883e-01,\n",
       "       2.65369966e-02])"
      ]
     },
     "execution_count": 44,
     "metadata": {},
     "output_type": "execute_result"
    }
   ],
   "source": [
    "x_test[10]"
   ]
  },
  {
   "cell_type": "code",
   "execution_count": 45,
   "id": "e50d6965",
   "metadata": {},
   "outputs": [
    {
     "data": {
      "text/plain": [
       "18.6"
      ]
     },
     "execution_count": 45,
     "metadata": {},
     "output_type": "execute_result"
    }
   ],
   "source": [
    "y_test[10]"
   ]
  },
  {
   "cell_type": "code",
   "execution_count": 47,
   "id": "9d2c4262",
   "metadata": {},
   "outputs": [
    {
     "name": "stdout",
     "output_type": "stream",
     "text": [
      "1/1 [==============================] - 0s 64ms/step\n"
     ]
    },
    {
     "data": {
      "text/plain": [
       "array([[15.302619]], dtype=float32)"
      ]
     },
     "execution_count": 47,
     "metadata": {},
     "output_type": "execute_result"
    }
   ],
   "source": [
    "model.predict([[5.71082159e-04, 0.00000000e+00, 2.13693971e-02, 0.00000000e+00,\n",
    "       1.29814095e-03, 1.59896015e-02, 2.13194686e-01, 6.77704466e-03,\n",
    "       1.24821245e-02, 9.58627160e-01, 5.21752803e-02, 1.76746883e-01,\n",
    "       2.65369966e-02]])"
   ]
  },
  {
   "cell_type": "code",
   "execution_count": null,
   "id": "c5b97a7e",
   "metadata": {},
   "outputs": [],
   "source": []
  }
 ],
 "metadata": {
  "kernelspec": {
   "display_name": "Python 3 (ipykernel)",
   "language": "python",
   "name": "python3"
  },
  "language_info": {
   "codemirror_mode": {
    "name": "ipython",
    "version": 3
   },
   "file_extension": ".py",
   "mimetype": "text/x-python",
   "name": "python",
   "nbconvert_exporter": "python",
   "pygments_lexer": "ipython3",
   "version": "3.10.11"
  }
 },
 "nbformat": 4,
 "nbformat_minor": 5
}
